{
 "cells": [
  {
   "cell_type": "code",
   "execution_count": 4,
   "metadata": {},
   "outputs": [
    {
     "name": "stdout",
     "output_type": "stream",
     "text": [
      "Collecting webdriver_manager\n",
      "  Obtaining dependency information for webdriver_manager from https://files.pythonhosted.org/packages/b1/51/b5c11cf739ac4eecde611794a0ec9df420d0239d51e73bc19eb44f02b48b/webdriver_manager-4.0.1-py2.py3-none-any.whl.metadata\n",
      "  Downloading webdriver_manager-4.0.1-py2.py3-none-any.whl.metadata (12 kB)\n",
      "Requirement already satisfied: requests in /Users/foziayimer/anaconda3/lib/python3.11/site-packages (from webdriver_manager) (2.31.0)\n",
      "Requirement already satisfied: python-dotenv in /Users/foziayimer/anaconda3/lib/python3.11/site-packages (from webdriver_manager) (0.21.0)\n",
      "Requirement already satisfied: packaging in /Users/foziayimer/anaconda3/lib/python3.11/site-packages (from webdriver_manager) (23.1)\n",
      "Requirement already satisfied: charset-normalizer<4,>=2 in /Users/foziayimer/anaconda3/lib/python3.11/site-packages (from requests->webdriver_manager) (2.0.4)\n",
      "Requirement already satisfied: idna<4,>=2.5 in /Users/foziayimer/anaconda3/lib/python3.11/site-packages (from requests->webdriver_manager) (3.4)\n",
      "Requirement already satisfied: urllib3<3,>=1.21.1 in /Users/foziayimer/anaconda3/lib/python3.11/site-packages (from requests->webdriver_manager) (1.26.16)\n",
      "Requirement already satisfied: certifi>=2017.4.17 in /Users/foziayimer/anaconda3/lib/python3.11/site-packages (from requests->webdriver_manager) (2023.11.17)\n",
      "Downloading webdriver_manager-4.0.1-py2.py3-none-any.whl (27 kB)\n",
      "Installing collected packages: webdriver_manager\n",
      "Successfully installed webdriver_manager-4.0.1\n"
     ]
    }
   ],
   "source": [
    "import requests \n",
    "!pip install webdriver_manager"
   ]
  },
  {
   "cell_type": "code",
   "execution_count": 5,
   "metadata": {},
   "outputs": [],
   "source": [
    "# Import Splinter and BeautifulSoup\n",
    "from splinter import Browser\n",
    "from bs4 import BeautifulSoup as soup\n",
    "from webdriver_manager.chrome import ChromeDriverManager"
   ]
  },
  {
   "cell_type": "markdown",
   "metadata": {},
   "source": [
    "## My Step 1 \n"
   ]
  },
  {
   "cell_type": "code",
   "execution_count": 6,
   "metadata": {},
   "outputs": [
    {
     "data": {
      "text/plain": [
       "'<!DOCTYPE html>\\r\\n<html>\\r\\n   <head>\\r\\n      <meta charset=\"utf-8\">\\r\\n      <meta name=\"viewport\" content=\"width=device-width, initial-scale=1\">\\r\\n      <link rel=\"stylesheet\" type=\"text/css\" href=\"css/bootstrap.min.5.2.2.css\">\\r\\n      <link rel=\"stylesheet\" type=\"text/css\" href=\"css/font.css\">\\r\\n      <link rel=\"stylesheet\" type=\"text/css\" href=\"css/app.css\">\\r\\n      <title>News - Mars Exploration Program</title>\\r\\n   </head>\\r\\n   <body>\\r\\n      <div class=\"col-md-12\">\\r\\n      <div class=\"row\">\\r\\n      <nav class=\"navbar navbar-expand-lg navbar-light fixed-top\">\\r\\n         <div class=\"container-fluid\">\\r\\n            <a class=\"navbar-brand\" href=\"#\"> \\r\\n            <img src=\"images/logo.png\" width=\"80\"><span class=\"logo\">MARS Planet Science</span>\\r\\n            <span class=\"logo1\">Exploration Program</span>\\r\\n            </a>\\r\\n            <button class=\"navbar-toggler\" type=\"button\" data-bs-toggle=\"collapse\" data-bs-target=\"#navbarNav\" aria-controls=\"navbarNav\" aria-expanded=\"false\" aria-label=\"Toggle navigation\">\\r\\n            <span class=\"navbar-toggler-icon\"></span>\\r\\n            </button>\\r\\n            <div class=\"collapse navbar-collapse justify-content-end\" id=\"navbarNav\">\\r\\n               <ul class=\"navbar-nav\">\\r\\n                  <li class=\"nav-item\">\\r\\n                     <a class=\"nav-link active\" aria-current=\"page\" href=\"#\">The Red Planet</a>\\r\\n                  </li>\\r\\n                  <li class=\"nav-item\">\\r\\n                     <a class=\"nav-link\" href=\"#\">The Program</a>\\r\\n                  </li>\\r\\n                  <li class=\"nav-item\">\\r\\n                     <a class=\"nav-link\" href=\"#\">News & Events</a>\\r\\n                  </li>\\r\\n                  <li class=\"nav-item\">\\r\\n                     <a class=\"nav-link\" href=\"#\">Multimedia</a>\\r\\n                  </li>\\r\\n                  <li class=\"nav-item\">\\r\\n                     <a class=\"nav-link\" href=\"#\">Missions</a>\\r\\n                  </li>\\r\\n                  <li class=\"nav-item\">\\r\\n                     <a class=\"nav-link\" href=\"#\">More</a>\\r\\n                  </li>\\r\\n                  <li class=\"nav-item nav_search\">\\r\\n                     <a class=\"nav-link \" href=\"#\"></a>\\r\\n                  </li>\\r\\n               </ul>\\r\\n            </div>\\r\\n         </div>\\r\\n      </nav>\\r\\n      <section class=\"search\">\\r\\n         <div class=\"container\">\\r\\n            <h1>News</h1>\\r\\n            <div class=\"col-md-12 filter\">\\r\\n               <div class=\"row\">\\r\\n                  <div class=\"col-md-3 search_binder\">\\r\\n                     <input type=\"text\" name=\"search\" class=\"search_field\">\\r\\n                     <input type=\"text\" name=\"search\" class=\"search_submit\">\\r\\n                  </div>\\r\\n                  <div class=\"col-md-3\">\\r\\n                     <select id=\"year\" class=\"form-select \" aria-label=\"Default select example\">\\r\\n                        <option selected>Latest</option>\\r\\n\\r\\n                     </select>\\r\\n                  </div>\\r\\n                  <div class=\"col-md-3\">\\r\\n                     <select id=\"cat\" class=\"form-select \" aria-label=\"Default select example\">\\r\\n                        <option selected>All Categories</option>\\r\\n\\r\\n                     </select>\\r\\n                  </div>\\r\\n                  <div class=\"col-md-3\">\\t\\t\\t\\t\\t\\t\\r\\n                  </div>\\r\\n               </div>\\r\\n            </div>\\r\\n         </div>\\r\\n      </section>\\r\\n      <section class=\"image_and_description_container\">\\r\\n         <div id=\"news\" class=\"container \">\\r\\n            <div class=\"col-md-12\">\\r\\n               <hr>\\r\\n               <div class=\"row\">\\r\\n                 <div class=\"col-md-4\">\\r\\n                   <div class=\"list_image\">\\r\\n                     <img src=\"images/9299_maven-vertical-limb-320x240.jpeg\">\\r\\n                   </div>\\r\\n                 </div>\\r\\n                 <div class=\"col-md-8\">\\r\\n                    <div class=\"list_text\">\\r\\n                   <div class=\"list_date\">November 9, 2022</div>\\r\\n                   <div class=\"content_title\">NASA\\'s MAVEN Observes Martian Light Show Caused by Major Solar Storm</div>\\r\\n                   <div class=\"article_teaser_body\">For the first time in its eight years orbiting Mars, NASAâ\\x80\\x99s MAVEN mission witnessed two different types of ultraviolet aurorae simultaneously, the result of solar storms that began on Aug. 27.</div>\\r\\n                   </div>\\r\\n                 </div>\\r\\n               </div>\\r\\n            </div>\\r\\n            <div class=\"col-md-12\">\\r\\n               <hr>\\r\\n               <div class=\"row\">\\r\\n                 <div class=\"col-md-4\">\\r\\n                   <div class=\"list_image\">\\r\\n                     <img src=\"images/9292_PIA25287-320x240.jpeg\">\\r\\n                   </div>\\r\\n                 </div>\\r\\n                 <div class=\"col-md-8\">\\r\\n                    <div class=\"list_text\">\\r\\n                   <div class=\"list_date\">November 1, 2022</div>\\r\\n                   <div class=\"content_title\">NASA Prepares to Say \\'Farewell\\' to InSight Spacecraft</div>\\r\\n                   <div class=\"article_teaser_body\">A closer look at what goes into wrapping up the mission as the spacecraftâ\\x80\\x99s power supply continues to dwindle.</div>\\r\\n                   </div>\\r\\n                 </div>\\r\\n               </div>\\r\\n            </div>\\r\\n            <div class=\"col-md-12\">\\r\\n               <hr>\\r\\n               <div class=\"row\">\\r\\n                 <div class=\"col-md-4\">\\r\\n                   <div class=\"list_image\">\\r\\n                     <img src=\"images/9286_PIA25243-320x240.jpeg\">\\r\\n                   </div>\\r\\n                 </div>\\r\\n                 <div class=\"col-md-8\">\\r\\n                    <div class=\"list_text\">\\r\\n                   <div class=\"list_date\">October 28, 2022</div>\\r\\n                   <div class=\"content_title\">NASA and ESA Agree on Next Steps to Return Mars Samples to Earth</div>\\r\\n                   <div class=\"article_teaser_body\">The agencyâ\\x80\\x99s Perseverance rover will establish the first sample depot on Mars.</div>\\r\\n                   </div>\\r\\n                 </div>\\r\\n               </div>\\r\\n            </div>\\r\\n            <div class=\"col-md-12\">\\r\\n               <hr>\\r\\n               <div class=\"row\">\\r\\n                 <div class=\"col-md-4\">\\r\\n                   <div class=\"list_image\">\\r\\n                     <img src=\"images/9289_1-PIA25583320x240.jpeg\">\\r\\n                   </div>\\r\\n                 </div>\\r\\n                 <div class=\"col-md-8\">\\r\\n                    <div class=\"list_text\">\\r\\n                   <div class=\"list_date\">October 27, 2022</div>\\r\\n                   <div class=\"content_title\">NASA\\'s InSight Lander Detects Stunning Meteoroid Impact on Mars</div>\\r\\n                   <div class=\"article_teaser_body\">The agencyâ\\x80\\x99s lander felt the ground shake during the impact while cameras aboard the Mars Reconnaissance Orbiter spotted the yawning new crater from space.</div>\\r\\n                   </div>\\r\\n                 </div>\\r\\n               </div>\\r\\n            </div>\\r\\n            <div class=\"col-md-12\">\\r\\n               <hr>\\r\\n               <div class=\"row\">\\r\\n                 <div class=\"col-md-4\">\\r\\n                   <div class=\"list_image\">\\r\\n                     <img src=\"images/9284_1-PIA25287-320x240.jpeg\">\\r\\n                   </div>\\r\\n                 </div>\\r\\n                 <div class=\"col-md-8\">\\r\\n                    <div class=\"list_text\">\\r\\n                   <div class=\"list_date\">October 21, 2022</div>\\r\\n                   <div class=\"content_title\">NASA To Host Briefing on InSight, Mars Reconnaissance Orbiter Findings</div>\\r\\n                   <div class=\"article_teaser_body\">Scientists from two Mars missions will discuss how they combined images and data for a major finding on the Red Planet.</div>\\r\\n                   </div>\\r\\n                 </div>\\r\\n               </div>\\r\\n            </div>\\r\\n            <div class=\"col-md-12\">\\r\\n               <hr>\\r\\n               <div class=\"row\">\\r\\n                 <div class=\"col-md-4\">\\r\\n                   <div class=\"list_image\">\\r\\n                     <img src=\"images/9283_1-Illustration-of-SHIELD-320x240.jpeg\">\\r\\n                   </div>\\r\\n                 </div>\\r\\n                 <div class=\"col-md-8\">\\r\\n                    <div class=\"list_text\">\\r\\n                   <div class=\"list_date\">October 20, 2022</div>\\r\\n                   <div class=\"content_title\">Why NASA Is Trying To Crash Land on Mars</div>\\r\\n                   <div class=\"article_teaser_body\">Like a carâ\\x80\\x99s crumple zone, the experimental SHIELD lander is designed to absorb a hard impact.</div>\\r\\n                   </div>\\r\\n                 </div>\\r\\n               </div>\\r\\n            </div>\\r\\n            <div class=\"col-md-12\">\\r\\n               <hr>\\r\\n               <div class=\"row\">\\r\\n                 <div class=\"col-md-4\">\\r\\n                   <div class=\"list_image\">\\r\\n                     <img src=\"images/9281_1-PIA25413-320x240.jpeg\">\\r\\n                   </div>\\r\\n                 </div>\\r\\n                 <div class=\"col-md-8\">\\r\\n                    <div class=\"list_text\">\\r\\n                   <div class=\"list_date\">October 19, 2022</div>\\r\\n                   <div class=\"content_title\">Curiosity Mars Rover Reaches Long-Awaited Salty Region</div>\\r\\n                   <div class=\"article_teaser_body\">After years of climbing, the Mars rover has arrived at a special region believed to have formed as Marsâ\\x80\\x99 climate was drying.</div>\\r\\n                   </div>\\r\\n                 </div>\\r\\n               </div>\\r\\n            </div>\\r\\n            <div class=\"col-md-12\">\\r\\n               <hr>\\r\\n               <div class=\"row\">\\r\\n                 <div class=\"col-md-4\">\\r\\n                   <div class=\"list_image\">\\r\\n                     <img src=\"images/9276_PIA25337-320x240.jpeg\">\\r\\n                   </div>\\r\\n                 </div>\\r\\n                 <div class=\"col-md-8\">\\r\\n                    <div class=\"list_text\">\\r\\n                   <div class=\"list_date\">October 12, 2022</div>\\r\\n                   <div class=\"content_title\">Mars Mission Shields Up for Tests</div>\\r\\n                   <div class=\"article_teaser_body\">Protecting Mars Sample Return spacecraft from micrometeorites requires high-caliber work.</div>\\r\\n                   </div>\\r\\n                 </div>\\r\\n               </div>\\r\\n            </div>\\r\\n            <div class=\"col-md-12\">\\r\\n               <hr>\\r\\n               <div class=\"row\">\\r\\n                 <div class=\"col-md-4\">\\r\\n                   <div class=\"list_image\">\\r\\n                     <img src=\"images/9275_PIA25287-clean320x240.jpeg\">\\r\\n                   </div>\\r\\n                 </div>\\r\\n                 <div class=\"col-md-8\">\\r\\n                    <div class=\"list_text\">\\r\\n                   <div class=\"list_date\">October 7, 2022</div>\\r\\n                   <div class=\"content_title\">NASA\\'s InSight Waits Out Dust Storm</div>\\r\\n                   <div class=\"article_teaser_body\">InSightâ\\x80\\x99s team is taking steps to help the solar-powered lander continue operating for as long as possible.</div>\\r\\n                   </div>\\r\\n                 </div>\\r\\n               </div>\\r\\n            </div>\\r\\n            <div class=\"col-md-12\">\\r\\n               <hr>\\r\\n               <div class=\"row\">\\r\\n                 <div class=\"col-md-4\">\\r\\n                   <div class=\"list_image\">\\r\\n                     <img src=\"images/9264_1-PIA25408-320x240.jpeg\">\\r\\n                   </div>\\r\\n                 </div>\\r\\n                 <div class=\"col-md-8\">\\r\\n                    <div class=\"list_text\">\\r\\n                   <div class=\"list_date\">September 19, 2022</div>\\r\\n                   <div class=\"content_title\">NASA\\'s InSight \\'Hears\\' Its First Meteoroid Impacts on Mars</div>\\r\\n                   <div class=\"article_teaser_body\">The Mars landerâ\\x80\\x99s seismometer has picked up vibrations from four separate impacts in the past two years.</div>\\r\\n                   </div>\\r\\n                 </div>\\r\\n               </div>\\r\\n            </div>\\r\\n            <div class=\"col-md-12\">\\r\\n               <hr>\\r\\n               <div class=\"row\">\\r\\n                 <div class=\"col-md-4\">\\r\\n                   <div class=\"list_image\">\\r\\n                     <img src=\"images/9261_26987_PIA24925_MAIN-320x240.jpeg\">\\r\\n                   </div>\\r\\n                 </div>\\r\\n                 <div class=\"col-md-8\">\\r\\n                    <div class=\"list_text\">\\r\\n                   <div class=\"list_date\">September 15, 2022</div>\\r\\n                   <div class=\"content_title\">NASA\\'s Perseverance Rover Investigates Geologically Rich Mars Terrain</div>\\r\\n                   <div class=\"article_teaser_body\">The latest findings provide greater detail on a region of the Red Planet that has a watery past and is yielding promising samples for the NASA-ESA Mars Sample Return campaign.</div>\\r\\n                   </div>\\r\\n                 </div>\\r\\n               </div>\\r\\n            </div>\\r\\n            <div class=\"col-md-12\">\\r\\n               <hr>\\r\\n               <div class=\"row\">\\r\\n                 <div class=\"col-md-4\">\\r\\n                   <div class=\"list_image\">\\r\\n                     <img src=\"images/9257_PIA25325-320x240.jpeg\">\\r\\n                   </div>\\r\\n                 </div>\\r\\n                 <div class=\"col-md-8\">\\r\\n                    <div class=\"list_text\">\\r\\n                   <div class=\"list_date\">September 12, 2022</div>\\r\\n                   <div class=\"content_title\">NASA to Host Briefing on Perseverance Mars Rover Mission Operations</div>\\r\\n                   <div class=\"article_teaser_body\">Members of the mission will discuss the roverâ\\x80\\x99s activities as it gathers samples in an ancient river delta.</div>\\r\\n                   </div>\\r\\n                 </div>\\r\\n               </div>\\r\\n            </div>\\r\\n            <div class=\"col-md-12\">\\r\\n               <hr>\\r\\n               <div class=\"row\">\\r\\n                 <div class=\"col-md-4\">\\r\\n                   <div class=\"list_image\">\\r\\n                     <img src=\"images/9252_1-PIA24836_Perseverance_Selfie_at_Rochette-320x240.jpeg\">\\r\\n                   </div>\\r\\n                 </div>\\r\\n                 <div class=\"col-md-8\">\\r\\n                    <div class=\"list_text\">\\r\\n                   <div class=\"list_date\">August 25, 2022</div>\\r\\n                   <div class=\"content_title\">NASA\\'s Perseverance Makes New Discoveries in Mars\\' Jezero Crater</div>\\r\\n                   <div class=\"article_teaser_body\">The rover found that Jezero Craterâ\\x80\\x99s floor is made up of volcanic rocks that have interacted with water.</div>\\r\\n                   </div>\\r\\n                 </div>\\r\\n               </div>\\r\\n            </div>\\r\\n            <div class=\"col-md-12\">\\r\\n               <hr>\\r\\n               <div class=\"row\">\\r\\n                 <div class=\"col-md-4\">\\r\\n                   <div class=\"list_image\">\\r\\n                     <img src=\"images/9240_1-PIA25407-Curiositys-360-Degree-Panorama-of-Avanaro-320x240.jpeg\">\\r\\n                   </div>\\r\\n                 </div>\\r\\n                 <div class=\"col-md-8\">\\r\\n                    <div class=\"list_text\">\\r\\n                   <div class=\"list_date\">August 5, 2022</div>\\r\\n                   <div class=\"content_title\">10 Years Since Landing, NASA\\'s Curiosity Mars Rover Still Has Drive</div>\\r\\n                   <div class=\"article_teaser_body\">Despite signs of wear, the intrepid spacecraft is about to start an exciting new chapter of its mission as it climbs a Martian mountain.</div>\\r\\n                   </div>\\r\\n                 </div>\\r\\n               </div>\\r\\n            </div>\\r\\n            <div class=\"col-md-12\">\\r\\n               <hr>\\r\\n               <div class=\"row\">\\r\\n                 <div class=\"col-md-4\">\\r\\n                   <div class=\"list_image\">\\r\\n                     <img src=\"images/9239_article_pictures2_jpeg-320x240.jpeg\">\\r\\n                   </div>\\r\\n                 </div>\\r\\n                 <div class=\"col-md-8\">\\r\\n                    <div class=\"list_text\">\\r\\n                   <div class=\"list_date\">August 4, 2022</div>\\r\\n                   <div class=\"content_title\">SAM\\'s Top 5 Discoveries Aboard NASA\\'s Curiosity Rover at Mars</div>\\r\\n                   <div class=\"article_teaser_body\">â\\x80\\x9cSelfieâ\\x80\\x9d of the Curiosity rover with inset showing the SAM instrument prior to installation on the rover.</div>\\r\\n                   </div>\\r\\n                 </div>\\r\\n               </div>\\r\\n            </div>\\r\\n         </div>\\r\\n         <hr class=\"container\" style=\"margin: 25px auto;width: 83%;\">\\r\\n         <button id=\"more\" class=\"btn disable\">More</button>\\r\\n      </section>\\r\\n      <section class=\"last_news\">\\r\\n         <div class=\"container\">\\r\\n            <div class=\"row\">\\r\\n               <div class=\"col-12\">\\r\\n                  <h2>You Might Also Like</h2>\\r\\n               </div>\\r\\n               <div class=\"col-12\">\\r\\n                  <div id=\"carouselExampleIndicators2\" class=\"carousel slide\" data-ride=\"carousel\">\\r\\n                     <div class=\"carousel-inner\">\\r\\n                        <div class=\"carousel-item active\">\\r\\n                           <div class=\"row\">\\r\\n                              <div class=\"col-md-4 mb-3\">\\r\\n                                 <div class=\"card\">\\r\\n                                    <img class=\"img-fluid\" alt=\"100%x280\" src=\"images/9232_1-PIA01551-sojourner-and-ramp-already-in-PJ-320x240.jpeg\">\\r\\n                                    <div class=\"card-body\">\\r\\n                                       <p class=\"card-text\">NASA Marks 25 Years Since Pathfinder Touched Down on Mars</p>\\r\\n                                    </div>\\r\\n                                 </div>\\r\\n                              </div>\\r\\n                              <div class=\"col-md-4 mb-3\">\\r\\n                                 <div class=\"card\">\\r\\n                                    <img class=\"img-fluid\" alt=\"100%x280\" src=\"images/9172_PIA25179-320x240.jpeg\">\\r\\n                                    <div class=\"card-body\">\\r\\n                                       <p class=\"card-text\">NASA\\'s Perseverance Rover Captures Video of Solar Eclipse on Mars</p>\\r\\n                                    </div>\\r\\n                                 </div>\\r\\n                              </div>\\r\\n                              <div class=\"col-md-4 mb-3\">\\r\\n                                 <div class=\"card\">\\r\\n                                    <img class=\"img-fluid\" alt=\"100%x280\" src=\"images/9167_maven-in-orbit-320x240.jpeg\">\\r\\n                                    <div class=\"card-body\">\\r\\n                                       <p class=\"card-text\">NASA, UAE Mars Missions Agree to Share Science Data</p>\\r\\n                                    </div>\\r\\n                                 </div>\\r\\n                              </div>\\r\\n                           </div>\\r\\n                        </div>\\r\\n                     </div>\\r\\n                  </div>\\r\\n               </div>\\r\\n            </div>\\r\\n         </div>\\r\\n      </section>\\r\\n      <section class=\"footer\">\\r\\n         <div class=\"container\">\\r\\n            <div class=\"col-md-12\">\\r\\n               <div class=\"row\">\\r\\n                  <div class=\"col-md-3\">\\r\\n                     <h5>The Red Planet</h5>\\r\\n                     <ul>\\r\\n                        <li>Dashboard</li>\\r\\n                        <li>Science Goals</li>\\r\\n                        <li>The Planet</li>\\r\\n                     </ul>\\r\\n                  </div>\\r\\n                  <div class=\"col-md-3\">\\r\\n                     <h5>The Program</h5>\\r\\n                     <ul>\\r\\n                        <li>Mission Statement</li>\\r\\n                        <li>About the Program</li>\\r\\n                        <li>Organization Why Mars?</li>\\r\\n                     </ul>\\r\\n                  </div>\\r\\n                  <div class=\"col-md-3\">\\r\\n                     <h5>Multimedia</h5>\\r\\n                     <ul>\\r\\n                        <li>Images</li>\\r\\n                        <li>Videos</li>\\r\\n                        <li>More Resources</li>\\r\\n                     </ul>\\r\\n                  </div>\\r\\n                  <div class=\"col-md-3\">\\r\\n                     <h5>Missions</h5>\\r\\n                     <ul>\\r\\n                        <li>Past</li>\\r\\n                        <li>Present</li>\\r\\n                        <li>Future</li>\\r\\n                     </ul>\\r\\n                  </div>\\r\\n               </div>\\r\\n            </div>\\r\\n         </div>\\r\\n      </section>\\r\\n      <footer class=\"footer\">\\r\\n         <p id=\"datasource\">Images and news content extracted from NASA\\'s <a href=\"https://mars.nasa.gov/news/\">Mars News</a> website on November 9, 2022.<br />\\r\\n         Images used in accordance with the <a href=\"https://www.jpl.nasa.gov/jpl-image-use-policy\">JPL Image Use Policy</a>.</p>\\r\\n         <hr />\\r\\n         <p id=\"edx\">This site is operated by edX Boot Camps LLC for educational purposes only.  <br />\\r\\n            This is not a website endorsed by NASA. This website is intended only for internal academic purposes.</p>\\r\\n      </footer>\\r\\n      <script src=\"js/bootstrap.bundle.min.5.2.2.js\"></script>\\r\\n   </body>\\r\\n</html>'"
      ]
     },
     "execution_count": 6,
     "metadata": {},
     "output_type": "execute_result"
    }
   ],
   "source": [
    "url = 'https://static.bc-edx.com/data/web/mars_news/index.html'\n",
    "\n",
    "#download the html content of the page \n",
    "response = requests.get(url)\n",
    "html = response.text\n",
    "html"
   ]
  },
  {
   "cell_type": "markdown",
   "metadata": {},
   "source": [
    "# Module 12 Challenge\n",
    "## Deliverable 1: Scrape Titles and Preview Text from Mars News"
   ]
  },
  {
   "cell_type": "markdown",
   "metadata": {},
   "source": [
    "### Step 1: Visit the Website\n",
    "\n",
    "1. Use automated browsing to visit the [Mars news site](https://static.bc-edx.com/data/web/mars_news/index.html). Inspect the page to identify which elements to scrape.\n",
    "\n",
    "      > **Hint** To identify which elements to scrape, you might want to inspect the page by using Chrome DevTools."
   ]
  },
  {
   "cell_type": "markdown",
   "metadata": {},
   "source": [
    "### Step 2: Scrape the Website\n",
    "\n",
    "Create a Beautiful Soup object and use it to extract text elements from the website."
   ]
  },
  {
   "cell_type": "code",
   "execution_count": 13,
   "metadata": {},
   "outputs": [],
   "source": [
    "# Create a Beautiful Soup object\n",
    "soupp =soup(html,\"html.parser\")"
   ]
  },
  {
   "cell_type": "code",
   "execution_count": 16,
   "metadata": {},
   "outputs": [
    {
     "data": {
      "text/plain": [
       "[<div class=\"list_text\">\n",
       " <div class=\"list_date\">November 9, 2022</div>\n",
       " <div class=\"content_title\">NASA's MAVEN Observes Martian Light Show Caused by Major Solar Storm</div>\n",
       " <div class=\"article_teaser_body\">For the first time in its eight years orbiting Mars, NASAâs MAVEN mission witnessed two different types of ultraviolet aurorae simultaneously, the result of solar storms that began on Aug. 27.</div>\n",
       " </div>,\n",
       " <div class=\"list_text\">\n",
       " <div class=\"list_date\">November 1, 2022</div>\n",
       " <div class=\"content_title\">NASA Prepares to Say 'Farewell' to InSight Spacecraft</div>\n",
       " <div class=\"article_teaser_body\">A closer look at what goes into wrapping up the mission as the spacecraftâs power supply continues to dwindle.</div>\n",
       " </div>,\n",
       " <div class=\"list_text\">\n",
       " <div class=\"list_date\">October 28, 2022</div>\n",
       " <div class=\"content_title\">NASA and ESA Agree on Next Steps to Return Mars Samples to Earth</div>\n",
       " <div class=\"article_teaser_body\">The agencyâs Perseverance rover will establish the first sample depot on Mars.</div>\n",
       " </div>,\n",
       " <div class=\"list_text\">\n",
       " <div class=\"list_date\">October 27, 2022</div>\n",
       " <div class=\"content_title\">NASA's InSight Lander Detects Stunning Meteoroid Impact on Mars</div>\n",
       " <div class=\"article_teaser_body\">The agencyâs lander felt the ground shake during the impact while cameras aboard the Mars Reconnaissance Orbiter spotted the yawning new crater from space.</div>\n",
       " </div>,\n",
       " <div class=\"list_text\">\n",
       " <div class=\"list_date\">October 21, 2022</div>\n",
       " <div class=\"content_title\">NASA To Host Briefing on InSight, Mars Reconnaissance Orbiter Findings</div>\n",
       " <div class=\"article_teaser_body\">Scientists from two Mars missions will discuss how they combined images and data for a major finding on the Red Planet.</div>\n",
       " </div>,\n",
       " <div class=\"list_text\">\n",
       " <div class=\"list_date\">October 20, 2022</div>\n",
       " <div class=\"content_title\">Why NASA Is Trying To Crash Land on Mars</div>\n",
       " <div class=\"article_teaser_body\">Like a carâs crumple zone, the experimental SHIELD lander is designed to absorb a hard impact.</div>\n",
       " </div>,\n",
       " <div class=\"list_text\">\n",
       " <div class=\"list_date\">October 19, 2022</div>\n",
       " <div class=\"content_title\">Curiosity Mars Rover Reaches Long-Awaited Salty Region</div>\n",
       " <div class=\"article_teaser_body\">After years of climbing, the Mars rover has arrived at a special region believed to have formed as Marsâ climate was drying.</div>\n",
       " </div>,\n",
       " <div class=\"list_text\">\n",
       " <div class=\"list_date\">October 12, 2022</div>\n",
       " <div class=\"content_title\">Mars Mission Shields Up for Tests</div>\n",
       " <div class=\"article_teaser_body\">Protecting Mars Sample Return spacecraft from micrometeorites requires high-caliber work.</div>\n",
       " </div>,\n",
       " <div class=\"list_text\">\n",
       " <div class=\"list_date\">October 7, 2022</div>\n",
       " <div class=\"content_title\">NASA's InSight Waits Out Dust Storm</div>\n",
       " <div class=\"article_teaser_body\">InSightâs team is taking steps to help the solar-powered lander continue operating for as long as possible.</div>\n",
       " </div>,\n",
       " <div class=\"list_text\">\n",
       " <div class=\"list_date\">September 19, 2022</div>\n",
       " <div class=\"content_title\">NASA's InSight 'Hears' Its First Meteoroid Impacts on Mars</div>\n",
       " <div class=\"article_teaser_body\">The Mars landerâs seismometer has picked up vibrations from four separate impacts in the past two years.</div>\n",
       " </div>,\n",
       " <div class=\"list_text\">\n",
       " <div class=\"list_date\">September 15, 2022</div>\n",
       " <div class=\"content_title\">NASA's Perseverance Rover Investigates Geologically Rich Mars Terrain</div>\n",
       " <div class=\"article_teaser_body\">The latest findings provide greater detail on a region of the Red Planet that has a watery past and is yielding promising samples for the NASA-ESA Mars Sample Return campaign.</div>\n",
       " </div>,\n",
       " <div class=\"list_text\">\n",
       " <div class=\"list_date\">September 12, 2022</div>\n",
       " <div class=\"content_title\">NASA to Host Briefing on Perseverance Mars Rover Mission Operations</div>\n",
       " <div class=\"article_teaser_body\">Members of the mission will discuss the roverâs activities as it gathers samples in an ancient river delta.</div>\n",
       " </div>,\n",
       " <div class=\"list_text\">\n",
       " <div class=\"list_date\">August 25, 2022</div>\n",
       " <div class=\"content_title\">NASA's Perseverance Makes New Discoveries in Mars' Jezero Crater</div>\n",
       " <div class=\"article_teaser_body\">The rover found that Jezero Craterâs floor is made up of volcanic rocks that have interacted with water.</div>\n",
       " </div>,\n",
       " <div class=\"list_text\">\n",
       " <div class=\"list_date\">August 5, 2022</div>\n",
       " <div class=\"content_title\">10 Years Since Landing, NASA's Curiosity Mars Rover Still Has Drive</div>\n",
       " <div class=\"article_teaser_body\">Despite signs of wear, the intrepid spacecraft is about to start an exciting new chapter of its mission as it climbs a Martian mountain.</div>\n",
       " </div>,\n",
       " <div class=\"list_text\">\n",
       " <div class=\"list_date\">August 4, 2022</div>\n",
       " <div class=\"content_title\">SAM's Top 5 Discoveries Aboard NASA's Curiosity Rover at Mars</div>\n",
       " <div class=\"article_teaser_body\">âSelfieâ of the Curiosity rover with inset showing the SAM instrument prior to installation on the rover.</div>\n",
       " </div>]"
      ]
     },
     "execution_count": 16,
     "metadata": {},
     "output_type": "execute_result"
    }
   ],
   "source": [
    "# Extract all the text elements\n",
    "articles = soupp.find_all('div',class_ = 'list_text')\n",
    "articles"
   ]
  },
  {
   "cell_type": "markdown",
   "metadata": {},
   "source": [
    "### Step 3: Store the Results\n",
    "\n",
    "Extract the titles and preview text of the news articles that you scraped. Store the scraping results in Python data structures as follows:\n",
    "\n",
    "* Store each title-and-preview pair in a Python dictionary. And, give each dictionary two keys: `title` and `preview`. An example is the following:\n",
    "\n",
    "  ```python\n",
    "  {'title': \"NASA's MAVEN Observes Martian Light Show Caused by Major Solar Storm\", \n",
    "   'preview': \"For the first time in its eight years orbiting Mars, NASA’s MAVEN mission witnessed two different types of ultraviolet aurorae simultaneously, the result of solar storms that began on Aug. 27.\"\n",
    "  }\n",
    "  ```\n",
    "\n",
    "* Store all the dictionaries in a Python list.\n",
    "\n",
    "* Print the list in your notebook."
   ]
  },
  {
   "cell_type": "code",
   "execution_count": 18,
   "metadata": {},
   "outputs": [],
   "source": [
    "# Create an empty list to store the dictionaries\n",
    "News_data = []"
   ]
  },
  {
   "cell_type": "code",
   "execution_count": 19,
   "metadata": {},
   "outputs": [],
   "source": [
    "# Loop through the text elements\n",
    "# Extract the title and preview text from the elements\n",
    "# Store each title and preview pair in a dictionary\n",
    "# Add the dictionary to the list\n",
    "for things in articles:\n",
    "    title = things.find('div',class_='content_title').text.strip()\n",
    "    preview =things.find('div',class_='article_teaser_body').text.strip()\n",
    "    \n",
    "    article_dict ={'title':title,'preview':preview}\n",
    "    \n",
    "    News_data.append(article_dict)"
   ]
  },
  {
   "cell_type": "code",
   "execution_count": 22,
   "metadata": {},
   "outputs": [
    {
     "data": {
      "text/plain": [
       "[{'title': \"NASA's MAVEN Observes Martian Light Show Caused by Major Solar Storm\",\n",
       "  'preview': 'For the first time in its eight years orbiting Mars, NASAâ\\x80\\x99s MAVEN mission witnessed two different types of ultraviolet aurorae simultaneously, the result of solar storms that began on Aug. 27.'},\n",
       " {'title': \"NASA Prepares to Say 'Farewell' to InSight Spacecraft\",\n",
       "  'preview': 'A closer look at what goes into wrapping up the mission as the spacecraftâ\\x80\\x99s power supply continues to dwindle.'},\n",
       " {'title': 'NASA and ESA Agree on Next Steps to Return Mars Samples to Earth',\n",
       "  'preview': 'The agencyâ\\x80\\x99s Perseverance rover will establish the first sample depot on Mars.'},\n",
       " {'title': \"NASA's InSight Lander Detects Stunning Meteoroid Impact on Mars\",\n",
       "  'preview': 'The agencyâ\\x80\\x99s lander felt the ground shake during the impact while cameras aboard the Mars Reconnaissance Orbiter spotted the yawning new crater from space.'},\n",
       " {'title': 'NASA To Host Briefing on InSight, Mars Reconnaissance Orbiter Findings',\n",
       "  'preview': 'Scientists from two Mars missions will discuss how they combined images and data for a major finding on the Red Planet.'},\n",
       " {'title': 'Why NASA Is Trying To Crash Land on Mars',\n",
       "  'preview': 'Like a carâ\\x80\\x99s crumple zone, the experimental SHIELD lander is designed to absorb a hard impact.'},\n",
       " {'title': 'Curiosity Mars Rover Reaches Long-Awaited Salty Region',\n",
       "  'preview': 'After years of climbing, the Mars rover has arrived at a special region believed to have formed as Marsâ\\x80\\x99 climate was drying.'},\n",
       " {'title': 'Mars Mission Shields Up for Tests',\n",
       "  'preview': 'Protecting Mars Sample Return spacecraft from micrometeorites requires high-caliber work.'},\n",
       " {'title': \"NASA's InSight Waits Out Dust Storm\",\n",
       "  'preview': 'InSightâ\\x80\\x99s team is taking steps to help the solar-powered lander continue operating for as long as possible.'},\n",
       " {'title': \"NASA's InSight 'Hears' Its First Meteoroid Impacts on Mars\",\n",
       "  'preview': 'The Mars landerâ\\x80\\x99s seismometer has picked up vibrations from four separate impacts in the past two years.'},\n",
       " {'title': \"NASA's Perseverance Rover Investigates Geologically Rich Mars Terrain\",\n",
       "  'preview': 'The latest findings provide greater detail on a region of the Red Planet that has a watery past and is yielding promising samples for the NASA-ESA Mars Sample Return campaign.'},\n",
       " {'title': 'NASA to Host Briefing on Perseverance Mars Rover Mission Operations',\n",
       "  'preview': 'Members of the mission will discuss the roverâ\\x80\\x99s activities as it gathers samples in an ancient river delta.'},\n",
       " {'title': \"NASA's Perseverance Makes New Discoveries in Mars' Jezero Crater\",\n",
       "  'preview': 'The rover found that Jezero Craterâ\\x80\\x99s floor is made up of volcanic rocks that have interacted with water.'},\n",
       " {'title': \"10 Years Since Landing, NASA's Curiosity Mars Rover Still Has Drive\",\n",
       "  'preview': 'Despite signs of wear, the intrepid spacecraft is about to start an exciting new chapter of its mission as it climbs a Martian mountain.'},\n",
       " {'title': \"SAM's Top 5 Discoveries Aboard NASA's Curiosity Rover at Mars\",\n",
       "  'preview': 'â\\x80\\x9cSelfieâ\\x80\\x9d of the Curiosity rover with inset showing the SAM instrument prior to installation on the rover.'}]"
      ]
     },
     "execution_count": 22,
     "metadata": {},
     "output_type": "execute_result"
    }
   ],
   "source": [
    "# Print the list to confirm success\n",
    "News_data"
   ]
  }
 ],
 "metadata": {
  "kernelspec": {
   "display_name": "Python 3 (ipykernel)",
   "language": "python",
   "name": "python3"
  },
  "language_info": {
   "codemirror_mode": {
    "name": "ipython",
    "version": 3
   },
   "file_extension": ".py",
   "mimetype": "text/x-python",
   "name": "python",
   "nbconvert_exporter": "python",
   "pygments_lexer": "ipython3",
   "version": "3.11.5"
  },
  "vscode": {
   "interpreter": {
    "hash": "31f2aee4e71d21fbe5cf8b01ff0e069b9275f58929596ceb00d14d90e3e16cd6"
   }
  }
 },
 "nbformat": 4,
 "nbformat_minor": 4
}
